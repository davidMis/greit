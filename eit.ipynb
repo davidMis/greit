{
 "cells": [
  {
   "cell_type": "code",
   "execution_count": 69,
   "metadata": {},
   "outputs": [
    {
     "name": "stdout",
     "output_type": "stream",
     "text": [
      "The autoreload extension is already loaded. To reload it, use:\n",
      "  %reload_ext autoreload\n"
     ]
    }
   ],
   "source": [
    "%load_ext autoreload\n",
    "%autoreload 2"
   ]
  },
  {
   "cell_type": "code",
   "execution_count": 70,
   "metadata": {},
   "outputs": [],
   "source": [
    "import eit\n",
    "import numpy as np\n",
    "import matplotlib.pyplot as plt"
   ]
  },
  {
   "cell_type": "code",
   "execution_count": 93,
   "metadata": {},
   "outputs": [
    {
     "data": {
      "text/plain": [
       "<matplotlib.colorbar.Colorbar at 0x10bdc3f90>"
      ]
     },
     "execution_count": 93,
     "metadata": {},
     "output_type": "execute_result"
    },
    {
     "data": {
      "image/png": "[encoded data removed]",
      "text/plain": [
       "<Figure size 480x480 with 2 Axes>"
      ]
     },
     "metadata": {},
     "output_type": "display_data"
    }
   ],
   "source": [
    "rng = np.random.default_rng(0)\n",
    "\n",
    "N = 1\n",
    "adj = eit.build_adjacency_matrix(N)\n",
    "K = eit.build_kirchoff_matrix_from_adjacency_mask(rng.random(adj.shape), adj)\n",
    "Lambda = eit.forward(N, K)\n",
    "recovered_K = eit.curtis_morrow(N, Lambda)\n",
    "\n",
    "plt.matshow(K - recovered_K)\n",
    "plt.colorbar()"
   ]
  },
  {
   "cell_type": "code",
   "execution_count": 88,
   "metadata": {},
   "outputs": [
    {
     "data": {
      "text/plain": [
       "array([[-0.42079496,  0.        ,  0.        ,  0.        ,  0.42079496],\n",
       "       [ 0.        , -0.52967785,  0.        ,  0.        ,  0.52967785],\n",
       "       [ 0.        ,  0.        , -0.70013993,  0.        ,  0.70013993],\n",
       "       [ 0.        ,  0.        ,  0.        , -0.53493837,  0.53493837],\n",
       "       [ 0.42079496,  0.52967785,  0.70013993,  0.53493837, -2.1855511 ]])"
      ]
     },
     "execution_count": 88,
     "metadata": {},
     "output_type": "execute_result"
    }
   ],
   "source": [
    "recovered_K"
   ]
  },
  {
   "cell_type": "code",
   "execution_count": 89,
   "metadata": {},
   "outputs": [
    {
     "data": {
      "text/plain": [
       "array([[-0.42079496,  0.        ,  0.        ,  0.        ,  0.42079496],\n",
       "       [ 0.        , -0.52967785,  0.        ,  0.        ,  0.52967785],\n",
       "       [ 0.        ,  0.        , -0.70013993,  0.        ,  0.70013993],\n",
       "       [ 0.        ,  0.        ,  0.        , -0.53493837,  0.53493837],\n",
       "       [ 0.42079496,  0.52967785,  0.70013993,  0.53493837, -2.1855511 ]])"
      ]
     },
     "execution_count": 89,
     "metadata": {},
     "output_type": "execute_result"
    }
   ],
   "source": [
    "recovered_K"
   ]
  },
  {
   "cell_type": "code",
   "execution_count": 67,
   "metadata": {},
   "outputs": [
    {
     "data": {
      "text/plain": [
       "array([[-0.42079496,  0.        ,  0.        ,  0.        ,  0.42079496],\n",
       "       [ 0.        , -0.52967785,  0.        ,  0.        ,  0.52967785],\n",
       "       [ 0.        ,  0.        , -0.70013993,  0.        ,  0.70013993],\n",
       "       [ 0.        ,  0.        ,  0.        , -0.53493837,  0.53493837],\n",
       "       [ 0.42079496,  0.52967785,  0.70013993,  0.53493837, -2.1855511 ]])"
      ]
     },
     "execution_count": 67,
     "metadata": {},
     "output_type": "execute_result"
    }
   ],
   "source": [
    "K"
   ]
  },
  {
   "cell_type": "code",
   "execution_count": 80,
   "metadata": {},
   "outputs": [
    {
     "data": {
      "text/plain": [
       "array([[0., 0., 0., 1., 0.],\n",
       "       [1., 0., 0., 0., 0.],\n",
       "       [0., 1., 0., 0., 0.],\n",
       "       [0., 0., 1., 0., 0.],\n",
       "       [0., 0., 0., 0., 1.]])"
      ]
     },
     "execution_count": 80,
     "metadata": {},
     "output_type": "execute_result"
    }
   ],
   "source": [
    "eit.permutation_matrix(eit.rotation_vector(N))"
   ]
  },
  {
   "cell_type": "code",
   "execution_count": null,
   "metadata": {},
   "outputs": [],
   "source": [
    "def rectangular_inversion(N):\n",
    "    adj = eit.build_adjacency_matrix(N)\n",
    "    K = eit.build_kirchoff_matrix_from_adjacency_mask(rng.random(adj.shape), adj)\n",
    "    Lambda = eit.forward(N, K)\n",
    "    recovered_K = eit.curtis_morrow(N, Lambda)\n",
    "    np.testing.assert_allclose(K, recovered_K)"
   ]
  },
  {
   "cell_type": "code",
   "execution_count": null,
   "metadata": {},
   "outputs": [],
   "source": [
    "N = 1\n",
    "adj = eit.build_adjacency_matrix(N)\n",
    "K = eit.build_kirchoff_matrix_from_adjacency_mask(rng.random(adj.shape), adj)\n",
    "Lambda = eit.forward(N, K)\n",
    "recovered_K = eit.curtis_morrow(N, Lambda)"
   ]
  },
  {
   "cell_type": "code",
   "execution_count": null,
   "metadata": {},
   "outputs": [
    {
     "data": {
      "text/plain": [
       "<matplotlib.colorbar.Colorbar at 0x128a0f1d0>"
      ]
     },
     "execution_count": 9,
     "metadata": {},
     "output_type": "execute_result"
    },
    {
     "data": {
      "image/png": "[encoded data removed]",
      "text/plain": [
       "<Figure size 480x480 with 2 Axes>"
      ]
     },
     "metadata": {},
     "output_type": "display_data"
    }
   ],
   "source": [
    "plt.matshow(K - recovered_K)\n",
    "plt.colorbar()"
   ]
  },
  {
   "cell_type": "code",
   "execution_count": null,
   "metadata": {},
   "outputs": [
    {
     "data": {
      "text/plain": [
       "array([False, False, False, False,  True, False, False, False, False,\n",
       "       False, False, False, False, False, False, False, False, False,\n",
       "       False, False, False, False, False, False, False, False, False,\n",
       "       False, False, False, False, False])"
      ]
     },
     "execution_count": 68,
     "metadata": {},
     "output_type": "execute_result"
    }
   ],
   "source": [
    "eit.rotation_vector(4) == np.array(\n",
    "            [12, 13, 14, 15, 0, 1, 2, 3, 4, 5, 6, 7, 8, 9, 10, 11, # Boundary\n",
    "             28, 24, 20, 16, 29, 25, 21, 17, 30, 26, 22, 18, 31, 27, 23, 19] # Interior\n",
    "        )"
   ]
  },
  {
   "cell_type": "code",
   "execution_count": null,
   "metadata": {},
   "outputs": [],
   "source": [
    "vec = eit.rotation_vector(eit.num_edges(4))"
   ]
  },
  {
   "cell_type": "code",
   "execution_count": null,
   "metadata": {},
   "outputs": [
    {
     "data": {
      "text/plain": [
       "16"
      ]
     },
     "execution_count": 62,
     "metadata": {},
     "output_type": "execute_result"
    }
   ],
   "source": [
    "eit.interior_index(4, 1, 1)"
   ]
  },
  {
   "cell_type": "code",
   "execution_count": null,
   "metadata": {},
   "outputs": [
    {
     "data": {
      "text/plain": [
       "4"
      ]
     },
     "execution_count": 69,
     "metadata": {},
     "output_type": "execute_result"
    }
   ],
   "source": [
    "eit.permutation_matrix(np.array([1,2,3]))"
   ]
  }
 ],
 "metadata": {
  "kernelspec": {
   "display_name": ".venv",
   "language": "python",
   "name": "python3"
  },
  "language_info": {
   "codemirror_mode": {
    "name": "ipython",
    "version": 3
   },
   "file_extension": ".py",
   "mimetype": "text/x-python",
   "name": "python",
   "nbconvert_exporter": "python",
   "pygments_lexer": "ipython3",
   "version": "3.11.8"
  }
 },
 "nbformat": 4,
 "nbformat_minor": 2
}
